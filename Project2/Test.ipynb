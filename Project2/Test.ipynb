{
 "cells": [
  {
   "cell_type": "code",
   "execution_count": 1,
   "id": "9dfe8d38",
   "metadata": {},
   "outputs": [
    {
     "name": "stdout",
     "output_type": "stream",
     "text": [
      "C\t\tCreate works\n",
      "R\t\tRead works\n",
      "U\t\tUpdate works\n",
      "D\t\tDelete works\n",
      "\t\tData: [{'_id': ObjectId('662d92548d1240c8ec16ece8'), 'type': 'Dog', 'name': 'Hutch', 'age': 10}]\n"
     ]
    }
   ],
   "source": [
    "from AustinAnimalCenter import AnimalShelter\n",
    "\n",
    "#Original data used for test\n",
    "Data = {\"type\": \"Dog\", \"name\": \"Hutch\", \"age\": 10}\n",
    "\n",
    "#Updates age of original data\n",
    "newData = {\"age\": 9}\n",
    "\n",
    "#Deletes the updated version of data\n",
    "deletedData = {\"type\": \"Dog\", \"name\": \"Hutch\", \"age\": 9}\n",
    "\n",
    "test_shelter = AnimalShelter()\n",
    "\n",
    "\n",
    "\n",
    "try:\n",
    "    #prep\n",
    "    test_shelter.delete(deletedData)\n",
    "    test_shelter.delete(Data)\n",
    "    \n",
    "    #create test\n",
    "    create_test = test_shelter.create(Data)\n",
    "    assert create_test == True\n",
    "    print(\"C\\t\\tCreate works\")\n",
    "    \n",
    "    #read test\n",
    "    data = test_shelter.read(Data)\n",
    "    assert len(data) == 1\n",
    "    print(\"R\\t\\tRead works\")\n",
    "    \n",
    "    #update test\n",
    "    num_of_updates = test_shelter.update(Data, newData)\n",
    "    assert num_of_updates == 1\n",
    "    print(\"U\\t\\tUpdate works\")\n",
    "    \n",
    "    #delete test\n",
    "    num_of_deletes = test_shelter.delete(deletedData)\n",
    "    assert num_of_deletes == 1\n",
    "    print(\"D\\t\\tDelete works\")\n",
    "    \n",
    "    print(\"\\t\\tData: \" + str(data))\n",
    "    \n",
    "except Exception as e:\n",
    "    print(e)"
   ]
  },
  {
   "cell_type": "code",
   "execution_count": null,
   "id": "703da09c",
   "metadata": {},
   "outputs": [],
   "source": []
  },
  {
   "cell_type": "code",
   "execution_count": null,
   "id": "926a4faf",
   "metadata": {},
   "outputs": [],
   "source": []
  }
 ],
 "metadata": {
  "kernelspec": {
   "display_name": "Python 3 (ipykernel)",
   "language": "python",
   "name": "python3"
  },
  "language_info": {
   "codemirror_mode": {
    "name": "ipython",
    "version": 3
   },
   "file_extension": ".py",
   "mimetype": "text/x-python",
   "name": "python",
   "nbconvert_exporter": "python",
   "pygments_lexer": "ipython3",
   "version": "3.9.12"
  }
 },
 "nbformat": 4,
 "nbformat_minor": 5
}
